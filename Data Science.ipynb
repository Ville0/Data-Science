{
  "nbformat": 4,
  "nbformat_minor": 0,
  "metadata": {
    "colab": {
      "name": "Untitled0.ipynb",
      "provenance": [],
      "collapsed_sections": [],
      "authorship_tag": "ABX9TyOnA5GBVfVu925zluGgVRfm",
      "include_colab_link": true
    },
    "kernelspec": {
      "name": "python3",
      "display_name": "Python 3"
    }
  },
  "cells": [
    {
      "cell_type": "markdown",
      "metadata": {
        "id": "view-in-github",
        "colab_type": "text"
      },
      "source": [
        "<a href=\"https://colab.research.google.com/github/Ville0/Data-Science/blob/main/Data%20Science.ipynb\" target=\"_parent\"><img src=\"https://colab.research.google.com/assets/colab-badge.svg\" alt=\"Open In Colab\"/></a>"
      ]
    },
    {
      "cell_type": "code",
      "metadata": {
        "colab": {
          "base_uri": "https://localhost:8080/",
          "height": 198
        },
        "id": "t8wfLwggainx",
        "outputId": "c98963b0-3e23-402f-f7fe-20c09729dd55"
      },
      "source": [
        "import pandas as pd\r\n",
        "import numpy as np\r\n",
        "\r\n",
        "3 * 4\r\n",
        "\r\n",
        "3 ** 4\r\n",
        "\r\n",
        "2 + 3\r\n",
        "2 - 3\r\n",
        "2 * 3\r\n",
        "7 / 3\r\n",
        "7 % 3\r\n",
        "2 ** 0.5\r\n",
        "\r\n",
        "1 + 2 * 3 * 4 * 5 / 6 ** 3 + 7 + 8 - 9 + 10\r\n",
        "\r\n",
        "1 + 2 * (3 * 4 * 5 / 6) ** 3 + 7 + 8 - 9 + 10\r\n",
        "\r\n",
        "a = 10\r\n",
        "b = 20\r\n",
        "a + b\r\n",
        "\r\n",
        "quarter = 1/4\r\n",
        "half = 2 * quarter\r\n",
        "half\r\n",
        "\r\n",
        "quarter = 4\r\n",
        "half\r\n",
        "\r\n",
        "purchase_price = 5\r\n",
        "state_tax_rate = 0.075\r\n",
        "county_tax_rate = 0.02\r\n",
        "city_tax_rate = 0\r\n",
        "sales_tax_rate = state_tax_rate + county_tax_rate + city_tax_rate\r\n",
        "sales_tax = purchase_price * sales_tax_rate\r\n",
        "sales_tax\r\n",
        "\r\n",
        "initial = 2766000\r\n",
        "changed = 2814000\r\n",
        "(changed - initial) / initial\r\n",
        "\r\n",
        "(changed/initial) - 1\r\n",
        "\r\n",
        "initial = 2766\r\n",
        "changed = 2814\r\n",
        "(changed/initial) - 1\r\n",
        "\r\n",
        "initial = 2.37\r\n",
        "changed = 3.38\r\n",
        "(changed/initial) - 1\r\n",
        "\r\n",
        "initial = 287.6\r\n",
        "changed = 314.1\r\n",
        "(changed/initial) - 1\r\n",
        "\r\n",
        "initial = 15.3\r\n",
        "changed = 11.9\r\n",
        "(changed/initial) - 1\r\n",
        "\r\n",
        "1.035 * 1.035 * 1.035 * 1.035 * 1.035 * 1.035 * 1.035 * 1.035 * 1.035 * 1.035 - 1\r\n",
        "\r\n",
        "annual_growth_rate = 0.035\r\n",
        "ten_year_growth_rate = (1 + annual_growth_rate) ** 10 - 1\r\n",
        "ten_year_growth_rate\r\n",
        "\r\n",
        "initial = 2.37\r\n",
        "changed = 3.38\r\n",
        "t = 10\r\n",
        "(changed/initial) ** (1/t) - 1\r\n",
        "\r\n",
        "abs(-12)\r\n",
        "\r\n",
        "round(5 - 1.3)\r\n",
        "\r\n",
        "max(2, 2 + 3, 4)\r\n",
        "\r\n",
        "import math\r\n",
        "import operator\r\n",
        "math.sqrt(operator.add(4, 5))\r\n",
        "\r\n",
        "(4 + 5) ** 0.5\r\n",
        "\r\n",
        "florida = 2.72\r\n",
        "iowa = 16.25\r\n",
        "100*abs(florida-iowa)/((florida+iowa)/2)\r\n",
        "\r\n",
        "math.log(16, 2)\r\n",
        "\r\n",
        "math.log(16)/math.log(2)\r\n",
        "\r\n"
      ],
      "execution_count": null,
      "outputs": [
        {
          "output_type": "error",
          "ename": "NameError",
          "evalue": "ignored",
          "traceback": [
            "\u001b[0;31m---------------------------------------------------------------------------\u001b[0m",
            "\u001b[0;31mNameError\u001b[0m                                 Traceback (most recent call last)",
            "\u001b[0;32m<ipython-input-39-6b73f291c08f>\u001b[0m in \u001b[0;36m<module>\u001b[0;34m()\u001b[0m\n\u001b[1;32m     89\u001b[0m \u001b[0mmath\u001b[0m\u001b[0;34m.\u001b[0m\u001b[0mlog\u001b[0m\u001b[0;34m(\u001b[0m\u001b[0;36m16\u001b[0m\u001b[0;34m)\u001b[0m\u001b[0;34m/\u001b[0m\u001b[0mmath\u001b[0m\u001b[0;34m.\u001b[0m\u001b[0mlog\u001b[0m\u001b[0;34m(\u001b[0m\u001b[0;36m2\u001b[0m\u001b[0;34m)\u001b[0m\u001b[0;34m\u001b[0m\u001b[0;34m\u001b[0m\u001b[0m\n\u001b[1;32m     90\u001b[0m \u001b[0;34m\u001b[0m\u001b[0m\n\u001b[0;32m---> 91\u001b[0;31m \u001b[0mcones\u001b[0m\u001b[0;34m\u001b[0m\u001b[0;34m\u001b[0m\u001b[0m\n\u001b[0m",
            "\u001b[0;31mNameError\u001b[0m: name 'cones' is not defined"
          ]
        }
      ]
    }
  ]
}